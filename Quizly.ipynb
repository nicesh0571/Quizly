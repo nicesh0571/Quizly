{
 "cells": [
  {
   "cell_type": "markdown",
   "id": "9400d81b",
   "metadata": {},
   "source": [
    "## pdf 텍스트로 변환 및 요약 코드"
   ]
  },
  {
   "cell_type": "code",
   "execution_count": 2,
   "id": "c2810e55",
   "metadata": {},
   "outputs": [
    {
     "name": "stdout",
     "output_type": "stream",
     "text": [
      "✅ PDF에서 텍스트 추출 완료 및 저장됨.\n"
     ]
    },
    {
     "name": "stderr",
     "output_type": "stream",
     "text": [
      "C:\\Users\\nices\\AppData\\Local\\Packages\\PythonSoftwareFoundation.Python.3.11_qbz5n2kfra8p0\\LocalCache\\local-packages\\Python311\\site-packages\\tqdm\\auto.py:21: TqdmWarning: IProgress not found. Please update jupyter and ipywidgets. See https://ipywidgets.readthedocs.io/en/stable/user_install.html\n",
      "  from .autonotebook import tqdm as notebook_tqdm\n"
     ]
    },
    {
     "name": "stdout",
     "output_type": "stream",
     "text": [
      "다음은 이미지 필터링 강의 PDF의 핵심 내용 요약입니다.\n",
      "\n",
      "---\n",
      "\n",
      "**이미지 필터링의 핵심 요약**\n",
      "\n",
      "이 강의는 이미지 필터링의 주요 개념인 선형 필터링, 스무딩 및 샤프닝, 그리고 필터의 분리성(Separability)에 대해 다룹니다.\n",
      "\n",
      "**1. 이미지 필터링의 기본 개념**\n",
      "*   **필터링이란?** 각 출력 픽셀의 값이 해당 입력 픽셀 및 주변 픽셀 값에 의존하는 \"주변 영역 연산(Neighborhood operation)\"을 의미합니다.\n",
      "\n",
      "**2. 선형 필터 (Linear Filters)**\n",
      "*   **정의:** 이미지 `f`와 필터(커널 또는 마스크) `w` 간의 \"곱의 합(sum-of-products)\" 연산으로, `g(x,y) = ΣΣ w(s,t) f(x+s, y+t)`로 표현됩니다. 커널 `w`의 크기는 연산 영역을, 계수는 필터의 특성을 결정합니다.\n",
      "*   **직관:** 필터의 패턴과 지역 이미지 패턴이 유사할 때 필터 반응이 최대로 나타납니다.\n",
      "*   **계산 비용:** `m x m` 크기의 커널과 `n x n` 크기의 이미지에 대해 총 `m^2 * n^2`번의 곱셈이 필요합니다.\n",
      "*   **경계 효과 (Boundary Effect):** 이미지 가장자리에서 필터 창이 이미지 범위를 벗어날 때 이를 처리하는 방법(제로 패딩, 복제, 반사, 순환 등)이 필요합니다.\n",
      "*   **상관(Correlation) vs. 컨볼루션(Convolution):** 컨볼루션은 커널을 뒤집어(flip) 연산하며, 더 나은 수학적 속성 때문에 주로 사용됩니다.\n",
      "*   **속성:**\n",
      "    *   **덧셈성(Additivity) 및 동질성(Homogeneity):** 이 두 가지를 만족하면 선형 연산입니다.\n",
      "    *   **이동 불변성(Shift Invariance):** 출력 결과가 픽셀의 절대 위치에 관계없이 동일합니다.\n",
      "*   **CNN과의 연관성:** 컨볼루션 신경망(CNN)의 기본 연산은 학습된 선형 필터(컨볼루션)와 비선형 함수를 결합하여 사용합니다.\n",
      "\n",
      "**3. 스무딩 (Smoothing) 및 샤프닝 (Sharpening)**\n",
      "*   **스무딩 (Smoothing, 저주파 필터):** 이미지의 노이즈를 줄이고 부드럽게(블러링) 만듭니다.\n",
      "    *   **박스 필터 (Box Filter, 평균 필터):** 모든 필터 계수가 양수이며 합이 1인 필터로, 각 픽셀 값을 주변 픽셀의 평균으로 대체합니다.\n",
      "    *   **가우시안 필터 (Gaussian Filter):** 필터 중심에서 멀리 떨어진 픽셀에 더 적은 가중치를 부여하여 주변 픽셀의 기여도를 조절합니다. 표준 편차 `σ` 값이 스무딩 정도를 결정하며, 연속적인 2D 가우시안 함수를 이산화하여 필터를 구성합니다.\n",
      "*   **샤프닝 (Sharpening, 고주파 필터):** 이미지의 경계를 강조하여 선명하게 만듭니다.\n",
      "    *   **언샤프 마스킹 (Unsharp Masking):** 다음 세 단계로 이루어집니다.\n",
      "        1.  원본 이미지를 블러 처리합니다.\n",
      "        2.  원본 이미지에서 블러 처리된 이미지를 빼서 \"마스크\"를 생성합니다.\n",
      "        3.  원본 이미지에 이 마스크를 가중치 `k`와 함께 더하여 샤프닝된 이미지를 얻습니다 (`g = (k+1)f - k*f_blurred` 형태). 과도한 샤프닝은 부자연스러운 결과를 초래할 수 있습니다.\n",
      "\n",
      "**4. 분리성 (Separability)**\n",
      "*   **정의:** 2D 필터 `w(x,y)`가 두 개의 1D 함수 `w1(x)`와 `w2(y)`의 곱 (`w(x,y) = w1(x)w2(y)`) 또는 두 벡터의 외적(outer product)으로 표현될 수 있는 속성입니다.\n",
      "*   **예시:** 가우시안 필터는 분리 가능한 필터입니다.\n",
      "*   **이점:** `K x K` 크기의 필터를 `N x N` 크기의 이미지에 적용할 때, 일반적인 `K^2 * N^2`번의 곱셈 대신 `2K * N^2`번의 곱셈만으로 연산이 가능하여 계산 효율성을 크게 향상시킵니다.\n"
     ]
    }
   ],
   "source": [
    "import pdfplumber\n",
    "import requests\n",
    "\n",
    "# 📂 PDF 파일 경로\n",
    "pdf_path = \"04-Image filtering.pdf\"\n",
    "\n",
    "# 📝 텍스트 누적 저장 변수\n",
    "full_text = \"\"\n",
    "\n",
    "# 1️⃣ PDF에서 텍스트 추출\n",
    "with pdfplumber.open(pdf_path) as pdf:\n",
    "    for i, page in enumerate(pdf.pages):\n",
    "        text = page.extract_text()\n",
    "        if text:\n",
    "            full_text += f\"\\n--- [페이지 {i+1}] ---\\n{text}\"\n",
    "\n",
    "# 2️⃣ 추출된 텍스트 저장 (원문)\n",
    "with open(\"output_text.txt\", \"w\", encoding=\"utf-8\") as f:\n",
    "    f.write(full_text)\n",
    "\n",
    "print(\"✅ PDF에서 텍스트 추출 완료 및 저장됨.\")\n",
    "\n",
    "import os\n",
    "from dotenv import load_dotenv\n",
    "import google.generativeai as genai\n",
    "\n",
    "# ✅ .env 파일에서 환경변수 불러오기\n",
    "load_dotenv()\n",
    "api_key = os.getenv(\"GEMINI_API_KEY\")\n",
    "\n",
    "# ✅ Gemini API 설정\n",
    "genai.configure(api_key=api_key)\n",
    "\n",
    "# 모델 호출\n",
    "model = genai.GenerativeModel(\"models/gemini-2.5-flash\")\n",
    "\n",
    "# PDF 텍스트 불러오기\n",
    "with open(\"output_text.txt\", \"r\", encoding=\"utf-8\") as f:\n",
    "    content = f.read()\n",
    "\n",
    "# 프롬프트 설정\n",
    "prompt = f\"\"\"\n",
    "다음은 이미지 필터링 강의 PDF에서 추출한 텍스트입니다.\n",
    "핵심 내용을 **한국어로** 요약해 주세요:\n",
    "\n",
    "{content}\n",
    "\"\"\"\n",
    "\n",
    "# Gemini API 호출\n",
    "response = model.generate_content(prompt)\n",
    "\n",
    "# 출력\n",
    "print(response.text)\n",
    "\n",
    "with open(\"summary.txt\", \"w\", encoding=\"utf-8\") as f:\n",
    "    f.write(response.text)"
   ]
  },
  {
   "cell_type": "markdown",
   "id": "605ffd02",
   "metadata": {},
   "source": [
    "## 녹음본 텍스트 변환"
   ]
  },
  {
   "cell_type": "code",
   "execution_count": 3,
   "id": "11429b60",
   "metadata": {},
   "outputs": [
    {
     "name": "stdout",
     "output_type": "stream",
     "text": [
      "📌 사용 디바이스: cpu\n",
      "🎙️ 음성 인식 시작...\n"
     ]
    },
    {
     "name": "stderr",
     "output_type": "stream",
     "text": [
      "C:\\Users\\nices\\AppData\\Local\\Packages\\PythonSoftwareFoundation.Python.3.11_qbz5n2kfra8p0\\LocalCache\\local-packages\\Python311\\site-packages\\whisper\\transcribe.py:132: UserWarning: FP16 is not supported on CPU; using FP32 instead\n",
      "  warnings.warn(\"FP16 is not supported on CPU; using FP32 instead\")\n"
     ]
    },
    {
     "name": "stdout",
     "output_type": "stream",
     "text": [
      "✅ 음성 인식 완료!\n",
      "🕐 총 인식된 음성 길이: 2922.60초\n",
      "⚙️ 처리 시간: 1071.28초\n",
      "💾 텍스트 저장 완료 → 25-3-27-1_transcript.txt\n"
     ]
    }
   ],
   "source": [
    "import whisper\n",
    "import os\n",
    "import time\n",
    "import torch\n",
    "\n",
    "device = \"cuda\" if torch.cuda.is_available() else \"cpu\"\n",
    "print(f\"📌 사용 디바이스: {device}\")\n",
    "\n",
    "# Whisper는 CPU에서는 fp16을 자동 비활성화함\n",
    "model = whisper.load_model(\"small\", device=device)\n",
    "\n",
    "audio_file = \"image_filtering.m4a\"\n",
    "\n",
    "\n",
    "if not os.path.exists(audio_file):\n",
    "    raise FileNotFoundError(f\"❌ 음성 파일이 존재하지 않습니다: {audio_file}\")\n",
    "\n",
    "print(\"🎙️ 음성 인식 시작...\")\n",
    "start_time = time.time()\n",
    "\n",
    "# ⛔ GPU는 fp16, CPU는 fp32로 자동 설정됨\n",
    "# 따라서 따로 설정할 필요 없음\n",
    "result = model.transcribe(audio_file, language=\"ko\")\n",
    "\n",
    "end_time = time.time()\n",
    "elapsed_time = end_time - start_time\n",
    "\n",
    "text = result[\"text\"]\n",
    "segments = result[\"segments\"]\n",
    "total_duration = segments[-1]['end'] if segments else 0.0\n",
    "\n",
    "print(\"✅ 음성 인식 완료!\")\n",
    "print(f\"🕐 총 인식된 음성 길이: {total_duration:.2f}초\")\n",
    "print(f\"⚙️ 처리 시간: {elapsed_time:.2f}초\")\n",
    "\n",
    "output_path = \"25-3-27-1_transcript.txt\"\n",
    "with open(output_path, \"w\", encoding=\"utf-8\") as f:\n",
    "    f.write(text)\n",
    "\n",
    "print(f\"💾 텍스트 저장 완료 → {output_path}\")\n"
   ]
  },
  {
   "cell_type": "markdown",
   "id": "9e77fb19",
   "metadata": {},
   "source": [
    "## 녹음본 요약 코드"
   ]
  },
  {
   "cell_type": "code",
   "execution_count": 4,
   "id": "7a5f6570",
   "metadata": {},
   "outputs": [
    {
     "name": "stdout",
     "output_type": "stream",
     "text": [
      "✅ 녹음 텍스트 정리 완료 → 'recording_summary.txt'로 저장됨.\n"
     ]
    }
   ],
   "source": [
    "import os\n",
    "from dotenv import load_dotenv\n",
    "import google.generativeai as genai\n",
    "\n",
    "# ✅ API 설정\n",
    "load_dotenv()\n",
    "genai.configure(api_key=os.getenv(\"GEMINI_API_KEY\"))\n",
    "\n",
    "# ✅ 모델 선택\n",
    "model = genai.GenerativeModel(\"models/gemini-2.5-flash\")\n",
    "\n",
    "# ✅ 녹음된 텍스트 불러오기\n",
    "with open(\"25-3-27-1_transcript.txt\", \"r\", encoding=\"utf-8\") as f:\n",
    "    raw_recording_text = f.read()\n",
    "\n",
    "# ✅ 프롬프트 설정\n",
    "prompt = f\"\"\"\n",
    "다음 텍스트는 구어체로 진행된 강의 녹취록입니다.\n",
    "이 텍스트를 문어체로 정리하여 명확하고 간결한 강의 요약 형식으로 바꿔주세요.\n",
    "\n",
    "녹음 내용:\n",
    "\\\"\\\"\\\"{raw_recording_text}\\\"\\\"\\\"\n",
    "\"\"\"\n",
    "\n",
    "# ✅ Gemini API 호출 및 응답 저장\n",
    "try:\n",
    "    response = model.generate_content(prompt)\n",
    "    if response.candidates and response.candidates[0].content.parts:\n",
    "        cleaned_text = response.candidates[0].content.parts[0].text.strip()\n",
    "\n",
    "        with open(\"recording_summary.txt\", \"w\", encoding=\"utf-8\") as f:\n",
    "            f.write(cleaned_text)\n",
    "\n",
    "        print(\"✅ 녹음 텍스트 정리 완료 → 'recording_summary.txt'로 저장됨.\")\n",
    "    else:\n",
    "        print(\"⚠️ Gemini 응답이 비어 있습니다.\")\n",
    "except Exception as e:\n",
    "    print(f\"❌ 오류 발생: {e}\")\n"
   ]
  },
  {
   "cell_type": "markdown",
   "id": "4213e88b",
   "metadata": {},
   "source": [
    "## 텍스트 강조"
   ]
  },
  {
   "cell_type": "code",
   "execution_count": 5,
   "id": "55d04e45",
   "metadata": {},
   "outputs": [
    {
     "name": "stderr",
     "output_type": "stream",
     "text": [
      "🔍 Gemini로 의미 유사도 평가 중: 100%|██████████| 39/39 [15:29<00:00, 23.84s/it]"
     ]
    },
    {
     "name": "stdout",
     "output_type": "stream",
     "text": [
      "✅ 의미 기반 강조 완료 → recording_summary_highlighted.txt\n"
     ]
    },
    {
     "name": "stderr",
     "output_type": "stream",
     "text": [
      "\n"
     ]
    }
   ],
   "source": [
    "import os\n",
    "from dotenv import load_dotenv\n",
    "import google.generativeai as genai\n",
    "from tqdm import tqdm\n",
    "\n",
    "# 🔐 API 설정\n",
    "load_dotenv()\n",
    "genai.configure(api_key=os.getenv(\"GEMINI_API_KEY\"))\n",
    "model = genai.GenerativeModel(\"models/gemini-2.5-flash\")\n",
    "\n",
    "# ✅ PDF 요약 문장들 불러오기\n",
    "with open(\"summary.txt\", \"r\", encoding=\"utf-8\") as f:\n",
    "    summary_sentences = [line.strip() for line in f if line.strip()]\n",
    "\n",
    "# ✅ 녹음 요약 문장들 불러오기\n",
    "with open(\"recording_summary.txt\", \"r\", encoding=\"utf-8\") as f:\n",
    "    recording_sentences = [line.strip() for line in f if line.strip()]\n",
    "\n",
    "# ✅ 강조 대상 문장 판단\n",
    "highlight_set = set()\n",
    "\n",
    "for r_line in tqdm(recording_sentences, desc=\"🔍 Gemini로 의미 유사도 평가 중\"):\n",
    "    for s_line in summary_sentences:\n",
    "        prompt = f\"\"\"\n",
    "다음 두 문장이 의미상 유사한 경우에만 \"1\"을 출력하세요.  \n",
    "의미가 다르면 \"0\"을 출력하세요.  \n",
    "문장은 순서나 표현이 달라도 의미가 같으면 유사하다고 간주하세요.\n",
    "\n",
    "문장 A: \"{r_line}\"  \n",
    "문장 B: \"{s_line}\"\n",
    "\n",
    "숫자 하나만 출력하세요.\n",
    "\"\"\"\n",
    "        try:\n",
    "            response = model.generate_content(prompt)\n",
    "            score = response.text.strip()\n",
    "            if score == \"1\":\n",
    "                highlight_set.add(r_line)\n",
    "                break  # 하나라도 유사하면 더 비교할 필요 없음\n",
    "        except:\n",
    "            continue\n",
    "\n",
    "# ✅ 강조된 텍스트 생성 및 저장\n",
    "highlighted_lines = []\n",
    "for line in recording_sentences:\n",
    "    if line in highlight_set:\n",
    "        highlighted_lines.append(f\"✅ {line}\")\n",
    "    else:\n",
    "        highlighted_lines.append(line)\n",
    "\n",
    "output_path = \"recording_summary_highlighted.txt\"\n",
    "with open(output_path, \"w\", encoding=\"utf-8\") as f:\n",
    "    f.write(\"\\n\".join(highlighted_lines))\n",
    "\n",
    "print(f\"✅ 의미 기반 강조 완료 → {output_path}\")\n"
   ]
  },
  {
   "cell_type": "markdown",
   "id": "14af8919",
   "metadata": {},
   "source": [
    "## 중요도 기반 퀴즈 생성"
   ]
  },
  {
   "cell_type": "code",
   "execution_count": null,
   "id": "89097b89",
   "metadata": {},
   "outputs": [
    {
     "name": "stderr",
     "output_type": "stream",
     "text": [
      "C:\\Users\\nices\\AppData\\Local\\Packages\\PythonSoftwareFoundation.Python.3.11_qbz5n2kfra8p0\\LocalCache\\local-packages\\Python311\\site-packages\\tqdm\\auto.py:21: TqdmWarning: IProgress not found. Please update jupyter and ipywidgets. See https://ipywidgets.readthedocs.io/en/stable/user_install.html\n",
      "  from .autonotebook import tqdm as notebook_tqdm\n"
     ]
    },
    {
     "ename": "ResourceExhausted",
     "evalue": "429 You exceeded your current quota, please check your plan and billing details. For more information on this error, head to: https://ai.google.dev/gemini-api/docs/rate-limits. [violations {\n  quota_metric: \"generativelanguage.googleapis.com/generate_content_free_tier_requests\"\n  quota_id: \"GenerateRequestsPerDayPerProjectPerModel-FreeTier\"\n  quota_dimensions {\n    key: \"model\"\n    value: \"gemini-2.5-flash\"\n  }\n  quota_dimensions {\n    key: \"location\"\n    value: \"global\"\n  }\n  quota_value: 250\n}\n, links {\n  description: \"Learn more about Gemini API quotas\"\n  url: \"https://ai.google.dev/gemini-api/docs/rate-limits\"\n}\n, retry_delay {\n  seconds: 36\n}\n]",
     "output_type": "error",
     "traceback": [
      "\u001b[31m---------------------------------------------------------------------------\u001b[39m",
      "\u001b[31mResourceExhausted\u001b[39m                         Traceback (most recent call last)",
      "\u001b[36mCell\u001b[39m\u001b[36m \u001b[39m\u001b[32mIn[1]\u001b[39m\u001b[32m, line 29\u001b[39m\n\u001b[32m     15\u001b[39m prompt = \u001b[33mf\u001b[39m\u001b[33m\"\"\"\u001b[39m\n\u001b[32m     16\u001b[39m \u001b[33m다음은 강의 요약 텍스트입니다.  \u001b[39m\n\u001b[32m     17\u001b[39m \u001b[33m- ✅ 표시된 문장은 반드시 퀴즈 문제에 포함되도록 해주세요.  \u001b[39m\n\u001b[32m   (...)\u001b[39m\u001b[32m     25\u001b[39m \u001b[38;5;130;01m\\\"\u001b[39;00m\u001b[38;5;130;01m\\\"\u001b[39;00m\u001b[38;5;130;01m\\\"\u001b[39;00m\u001b[38;5;132;01m{\u001b[39;00mfull_text\u001b[38;5;132;01m}\u001b[39;00m\u001b[38;5;130;01m\\\"\u001b[39;00m\u001b[38;5;130;01m\\\"\u001b[39;00m\u001b[38;5;130;01m\\\"\u001b[39;00m\n\u001b[32m     26\u001b[39m \u001b[33m\"\"\"\u001b[39m\n\u001b[32m     28\u001b[39m \u001b[38;5;66;03m# ✅ Gemini 호출\u001b[39;00m\n\u001b[32m---> \u001b[39m\u001b[32m29\u001b[39m response = \u001b[43mmodel\u001b[49m\u001b[43m.\u001b[49m\u001b[43mgenerate_content\u001b[49m\u001b[43m(\u001b[49m\u001b[43mprompt\u001b[49m\u001b[43m)\u001b[49m\n\u001b[32m     31\u001b[39m \u001b[38;5;66;03m# ✅ 결과 저장\u001b[39;00m\n\u001b[32m     32\u001b[39m \u001b[38;5;28;01mwith\u001b[39;00m \u001b[38;5;28mopen\u001b[39m(\u001b[33m\"\u001b[39m\u001b[33mquiz_from_highlighted_and_full.txt\u001b[39m\u001b[33m\"\u001b[39m, \u001b[33m\"\u001b[39m\u001b[33mw\u001b[39m\u001b[33m\"\u001b[39m, encoding=\u001b[33m\"\u001b[39m\u001b[33mutf-8\u001b[39m\u001b[33m\"\u001b[39m) \u001b[38;5;28;01mas\u001b[39;00m f:\n",
      "\u001b[36mFile \u001b[39m\u001b[32m~\\AppData\\Local\\Packages\\PythonSoftwareFoundation.Python.3.11_qbz5n2kfra8p0\\LocalCache\\local-packages\\Python311\\site-packages\\google\\generativeai\\generative_models.py:331\u001b[39m, in \u001b[36mGenerativeModel.generate_content\u001b[39m\u001b[34m(self, contents, generation_config, safety_settings, stream, tools, tool_config, request_options)\u001b[39m\n\u001b[32m    329\u001b[39m         \u001b[38;5;28;01mreturn\u001b[39;00m generation_types.GenerateContentResponse.from_iterator(iterator)\n\u001b[32m    330\u001b[39m     \u001b[38;5;28;01melse\u001b[39;00m:\n\u001b[32m--> \u001b[39m\u001b[32m331\u001b[39m         response = \u001b[38;5;28;43mself\u001b[39;49m\u001b[43m.\u001b[49m\u001b[43m_client\u001b[49m\u001b[43m.\u001b[49m\u001b[43mgenerate_content\u001b[49m\u001b[43m(\u001b[49m\n\u001b[32m    332\u001b[39m \u001b[43m            \u001b[49m\u001b[43mrequest\u001b[49m\u001b[43m,\u001b[49m\n\u001b[32m    333\u001b[39m \u001b[43m            \u001b[49m\u001b[43m*\u001b[49m\u001b[43m*\u001b[49m\u001b[43mrequest_options\u001b[49m\u001b[43m,\u001b[49m\n\u001b[32m    334\u001b[39m \u001b[43m        \u001b[49m\u001b[43m)\u001b[49m\n\u001b[32m    335\u001b[39m         \u001b[38;5;28;01mreturn\u001b[39;00m generation_types.GenerateContentResponse.from_response(response)\n\u001b[32m    336\u001b[39m \u001b[38;5;28;01mexcept\u001b[39;00m google.api_core.exceptions.InvalidArgument \u001b[38;5;28;01mas\u001b[39;00m e:\n",
      "\u001b[36mFile \u001b[39m\u001b[32m~\\AppData\\Local\\Packages\\PythonSoftwareFoundation.Python.3.11_qbz5n2kfra8p0\\LocalCache\\local-packages\\Python311\\site-packages\\google\\ai\\generativelanguage_v1beta\\services\\generative_service\\client.py:835\u001b[39m, in \u001b[36mGenerativeServiceClient.generate_content\u001b[39m\u001b[34m(self, request, model, contents, retry, timeout, metadata)\u001b[39m\n\u001b[32m    832\u001b[39m \u001b[38;5;28mself\u001b[39m._validate_universe_domain()\n\u001b[32m    834\u001b[39m \u001b[38;5;66;03m# Send the request.\u001b[39;00m\n\u001b[32m--> \u001b[39m\u001b[32m835\u001b[39m response = \u001b[43mrpc\u001b[49m\u001b[43m(\u001b[49m\n\u001b[32m    836\u001b[39m \u001b[43m    \u001b[49m\u001b[43mrequest\u001b[49m\u001b[43m,\u001b[49m\n\u001b[32m    837\u001b[39m \u001b[43m    \u001b[49m\u001b[43mretry\u001b[49m\u001b[43m=\u001b[49m\u001b[43mretry\u001b[49m\u001b[43m,\u001b[49m\n\u001b[32m    838\u001b[39m \u001b[43m    \u001b[49m\u001b[43mtimeout\u001b[49m\u001b[43m=\u001b[49m\u001b[43mtimeout\u001b[49m\u001b[43m,\u001b[49m\n\u001b[32m    839\u001b[39m \u001b[43m    \u001b[49m\u001b[43mmetadata\u001b[49m\u001b[43m=\u001b[49m\u001b[43mmetadata\u001b[49m\u001b[43m,\u001b[49m\n\u001b[32m    840\u001b[39m \u001b[43m\u001b[49m\u001b[43m)\u001b[49m\n\u001b[32m    842\u001b[39m \u001b[38;5;66;03m# Done; return the response.\u001b[39;00m\n\u001b[32m    843\u001b[39m \u001b[38;5;28;01mreturn\u001b[39;00m response\n",
      "\u001b[36mFile \u001b[39m\u001b[32m~\\AppData\\Local\\Packages\\PythonSoftwareFoundation.Python.3.11_qbz5n2kfra8p0\\LocalCache\\local-packages\\Python311\\site-packages\\google\\api_core\\gapic_v1\\method.py:131\u001b[39m, in \u001b[36m_GapicCallable.__call__\u001b[39m\u001b[34m(self, timeout, retry, compression, *args, **kwargs)\u001b[39m\n\u001b[32m    128\u001b[39m \u001b[38;5;28;01mif\u001b[39;00m \u001b[38;5;28mself\u001b[39m._compression \u001b[38;5;129;01mis\u001b[39;00m \u001b[38;5;129;01mnot\u001b[39;00m \u001b[38;5;28;01mNone\u001b[39;00m:\n\u001b[32m    129\u001b[39m     kwargs[\u001b[33m\"\u001b[39m\u001b[33mcompression\u001b[39m\u001b[33m\"\u001b[39m] = compression\n\u001b[32m--> \u001b[39m\u001b[32m131\u001b[39m \u001b[38;5;28;01mreturn\u001b[39;00m \u001b[43mwrapped_func\u001b[49m\u001b[43m(\u001b[49m\u001b[43m*\u001b[49m\u001b[43margs\u001b[49m\u001b[43m,\u001b[49m\u001b[43m \u001b[49m\u001b[43m*\u001b[49m\u001b[43m*\u001b[49m\u001b[43mkwargs\u001b[49m\u001b[43m)\u001b[49m\n",
      "\u001b[36mFile \u001b[39m\u001b[32m~\\AppData\\Local\\Packages\\PythonSoftwareFoundation.Python.3.11_qbz5n2kfra8p0\\LocalCache\\local-packages\\Python311\\site-packages\\google\\api_core\\retry\\retry_unary.py:294\u001b[39m, in \u001b[36mRetry.__call__.<locals>.retry_wrapped_func\u001b[39m\u001b[34m(*args, **kwargs)\u001b[39m\n\u001b[32m    290\u001b[39m target = functools.partial(func, *args, **kwargs)\n\u001b[32m    291\u001b[39m sleep_generator = exponential_sleep_generator(\n\u001b[32m    292\u001b[39m     \u001b[38;5;28mself\u001b[39m._initial, \u001b[38;5;28mself\u001b[39m._maximum, multiplier=\u001b[38;5;28mself\u001b[39m._multiplier\n\u001b[32m    293\u001b[39m )\n\u001b[32m--> \u001b[39m\u001b[32m294\u001b[39m \u001b[38;5;28;01mreturn\u001b[39;00m \u001b[43mretry_target\u001b[49m\u001b[43m(\u001b[49m\n\u001b[32m    295\u001b[39m \u001b[43m    \u001b[49m\u001b[43mtarget\u001b[49m\u001b[43m,\u001b[49m\n\u001b[32m    296\u001b[39m \u001b[43m    \u001b[49m\u001b[38;5;28;43mself\u001b[39;49m\u001b[43m.\u001b[49m\u001b[43m_predicate\u001b[49m\u001b[43m,\u001b[49m\n\u001b[32m    297\u001b[39m \u001b[43m    \u001b[49m\u001b[43msleep_generator\u001b[49m\u001b[43m,\u001b[49m\n\u001b[32m    298\u001b[39m \u001b[43m    \u001b[49m\u001b[43mtimeout\u001b[49m\u001b[43m=\u001b[49m\u001b[38;5;28;43mself\u001b[39;49m\u001b[43m.\u001b[49m\u001b[43m_timeout\u001b[49m\u001b[43m,\u001b[49m\n\u001b[32m    299\u001b[39m \u001b[43m    \u001b[49m\u001b[43mon_error\u001b[49m\u001b[43m=\u001b[49m\u001b[43mon_error\u001b[49m\u001b[43m,\u001b[49m\n\u001b[32m    300\u001b[39m \u001b[43m\u001b[49m\u001b[43m)\u001b[49m\n",
      "\u001b[36mFile \u001b[39m\u001b[32m~\\AppData\\Local\\Packages\\PythonSoftwareFoundation.Python.3.11_qbz5n2kfra8p0\\LocalCache\\local-packages\\Python311\\site-packages\\google\\api_core\\retry\\retry_unary.py:156\u001b[39m, in \u001b[36mretry_target\u001b[39m\u001b[34m(target, predicate, sleep_generator, timeout, on_error, exception_factory, **kwargs)\u001b[39m\n\u001b[32m    152\u001b[39m \u001b[38;5;66;03m# pylint: disable=broad-except\u001b[39;00m\n\u001b[32m    153\u001b[39m \u001b[38;5;66;03m# This function explicitly must deal with broad exceptions.\u001b[39;00m\n\u001b[32m    154\u001b[39m \u001b[38;5;28;01mexcept\u001b[39;00m \u001b[38;5;167;01mException\u001b[39;00m \u001b[38;5;28;01mas\u001b[39;00m exc:\n\u001b[32m    155\u001b[39m     \u001b[38;5;66;03m# defer to shared logic for handling errors\u001b[39;00m\n\u001b[32m--> \u001b[39m\u001b[32m156\u001b[39m     next_sleep = \u001b[43m_retry_error_helper\u001b[49m\u001b[43m(\u001b[49m\n\u001b[32m    157\u001b[39m \u001b[43m        \u001b[49m\u001b[43mexc\u001b[49m\u001b[43m,\u001b[49m\n\u001b[32m    158\u001b[39m \u001b[43m        \u001b[49m\u001b[43mdeadline\u001b[49m\u001b[43m,\u001b[49m\n\u001b[32m    159\u001b[39m \u001b[43m        \u001b[49m\u001b[43msleep_iter\u001b[49m\u001b[43m,\u001b[49m\n\u001b[32m    160\u001b[39m \u001b[43m        \u001b[49m\u001b[43merror_list\u001b[49m\u001b[43m,\u001b[49m\n\u001b[32m    161\u001b[39m \u001b[43m        \u001b[49m\u001b[43mpredicate\u001b[49m\u001b[43m,\u001b[49m\n\u001b[32m    162\u001b[39m \u001b[43m        \u001b[49m\u001b[43mon_error\u001b[49m\u001b[43m,\u001b[49m\n\u001b[32m    163\u001b[39m \u001b[43m        \u001b[49m\u001b[43mexception_factory\u001b[49m\u001b[43m,\u001b[49m\n\u001b[32m    164\u001b[39m \u001b[43m        \u001b[49m\u001b[43mtimeout\u001b[49m\u001b[43m,\u001b[49m\n\u001b[32m    165\u001b[39m \u001b[43m    \u001b[49m\u001b[43m)\u001b[49m\n\u001b[32m    166\u001b[39m     \u001b[38;5;66;03m# if exception not raised, sleep before next attempt\u001b[39;00m\n\u001b[32m    167\u001b[39m     time.sleep(next_sleep)\n",
      "\u001b[36mFile \u001b[39m\u001b[32m~\\AppData\\Local\\Packages\\PythonSoftwareFoundation.Python.3.11_qbz5n2kfra8p0\\LocalCache\\local-packages\\Python311\\site-packages\\google\\api_core\\retry\\retry_base.py:214\u001b[39m, in \u001b[36m_retry_error_helper\u001b[39m\u001b[34m(exc, deadline, sleep_iterator, error_list, predicate_fn, on_error_fn, exc_factory_fn, original_timeout)\u001b[39m\n\u001b[32m    208\u001b[39m \u001b[38;5;28;01mif\u001b[39;00m \u001b[38;5;129;01mnot\u001b[39;00m predicate_fn(exc):\n\u001b[32m    209\u001b[39m     final_exc, source_exc = exc_factory_fn(\n\u001b[32m    210\u001b[39m         error_list,\n\u001b[32m    211\u001b[39m         RetryFailureReason.NON_RETRYABLE_ERROR,\n\u001b[32m    212\u001b[39m         original_timeout,\n\u001b[32m    213\u001b[39m     )\n\u001b[32m--> \u001b[39m\u001b[32m214\u001b[39m     \u001b[38;5;28;01mraise\u001b[39;00m final_exc \u001b[38;5;28;01mfrom\u001b[39;00m\u001b[38;5;250m \u001b[39m\u001b[34;01msource_exc\u001b[39;00m\n\u001b[32m    215\u001b[39m \u001b[38;5;28;01mif\u001b[39;00m on_error_fn \u001b[38;5;129;01mis\u001b[39;00m \u001b[38;5;129;01mnot\u001b[39;00m \u001b[38;5;28;01mNone\u001b[39;00m:\n\u001b[32m    216\u001b[39m     on_error_fn(exc)\n",
      "\u001b[36mFile \u001b[39m\u001b[32m~\\AppData\\Local\\Packages\\PythonSoftwareFoundation.Python.3.11_qbz5n2kfra8p0\\LocalCache\\local-packages\\Python311\\site-packages\\google\\api_core\\retry\\retry_unary.py:147\u001b[39m, in \u001b[36mretry_target\u001b[39m\u001b[34m(target, predicate, sleep_generator, timeout, on_error, exception_factory, **kwargs)\u001b[39m\n\u001b[32m    145\u001b[39m \u001b[38;5;28;01mwhile\u001b[39;00m \u001b[38;5;28;01mTrue\u001b[39;00m:\n\u001b[32m    146\u001b[39m     \u001b[38;5;28;01mtry\u001b[39;00m:\n\u001b[32m--> \u001b[39m\u001b[32m147\u001b[39m         result = \u001b[43mtarget\u001b[49m\u001b[43m(\u001b[49m\u001b[43m)\u001b[49m\n\u001b[32m    148\u001b[39m         \u001b[38;5;28;01mif\u001b[39;00m inspect.isawaitable(result):\n\u001b[32m    149\u001b[39m             warnings.warn(_ASYNC_RETRY_WARNING)\n",
      "\u001b[36mFile \u001b[39m\u001b[32m~\\AppData\\Local\\Packages\\PythonSoftwareFoundation.Python.3.11_qbz5n2kfra8p0\\LocalCache\\local-packages\\Python311\\site-packages\\google\\api_core\\timeout.py:130\u001b[39m, in \u001b[36mTimeToDeadlineTimeout.__call__.<locals>.func_with_timeout\u001b[39m\u001b[34m(*args, **kwargs)\u001b[39m\n\u001b[32m    126\u001b[39m         remaining_timeout = \u001b[38;5;28mself\u001b[39m._timeout\n\u001b[32m    128\u001b[39m     kwargs[\u001b[33m\"\u001b[39m\u001b[33mtimeout\u001b[39m\u001b[33m\"\u001b[39m] = remaining_timeout\n\u001b[32m--> \u001b[39m\u001b[32m130\u001b[39m \u001b[38;5;28;01mreturn\u001b[39;00m \u001b[43mfunc\u001b[49m\u001b[43m(\u001b[49m\u001b[43m*\u001b[49m\u001b[43margs\u001b[49m\u001b[43m,\u001b[49m\u001b[43m \u001b[49m\u001b[43m*\u001b[49m\u001b[43m*\u001b[49m\u001b[43mkwargs\u001b[49m\u001b[43m)\u001b[49m\n",
      "\u001b[36mFile \u001b[39m\u001b[32m~\\AppData\\Local\\Packages\\PythonSoftwareFoundation.Python.3.11_qbz5n2kfra8p0\\LocalCache\\local-packages\\Python311\\site-packages\\google\\api_core\\grpc_helpers.py:78\u001b[39m, in \u001b[36m_wrap_unary_errors.<locals>.error_remapped_callable\u001b[39m\u001b[34m(*args, **kwargs)\u001b[39m\n\u001b[32m     76\u001b[39m     \u001b[38;5;28;01mreturn\u001b[39;00m callable_(*args, **kwargs)\n\u001b[32m     77\u001b[39m \u001b[38;5;28;01mexcept\u001b[39;00m grpc.RpcError \u001b[38;5;28;01mas\u001b[39;00m exc:\n\u001b[32m---> \u001b[39m\u001b[32m78\u001b[39m     \u001b[38;5;28;01mraise\u001b[39;00m exceptions.from_grpc_error(exc) \u001b[38;5;28;01mfrom\u001b[39;00m\u001b[38;5;250m \u001b[39m\u001b[34;01mexc\u001b[39;00m\n",
      "\u001b[31mResourceExhausted\u001b[39m: 429 You exceeded your current quota, please check your plan and billing details. For more information on this error, head to: https://ai.google.dev/gemini-api/docs/rate-limits. [violations {\n  quota_metric: \"generativelanguage.googleapis.com/generate_content_free_tier_requests\"\n  quota_id: \"GenerateRequestsPerDayPerProjectPerModel-FreeTier\"\n  quota_dimensions {\n    key: \"model\"\n    value: \"gemini-2.5-flash\"\n  }\n  quota_dimensions {\n    key: \"location\"\n    value: \"global\"\n  }\n  quota_value: 250\n}\n, links {\n  description: \"Learn more about Gemini API quotas\"\n  url: \"https://ai.google.dev/gemini-api/docs/rate-limits\"\n}\n, retry_delay {\n  seconds: 36\n}\n]"
     ]
    }
   ],
   "source": [
    "import os\n",
    "from dotenv import load_dotenv\n",
    "import google.generativeai as genai\n",
    "\n",
    "# ✅ API 설정\n",
    "load_dotenv()\n",
    "genai.configure(api_key=os.getenv(\"GEMINI_API_KEY\"))\n",
    "model = genai.GenerativeModel(\"models/gemini-1.5-flash\")\n",
    "\n",
    "# ✅ 전체 요약 텍스트 불러오기\n",
    "with open(\"recording_summary_highlighted.txt\", \"r\", encoding=\"utf-8\") as f:\n",
    "    full_text = f.read()\n",
    "\n",
    "# ✅ 프롬프트 정의\n",
    "prompt = f\"\"\"\n",
    "다음은 강의 요약 텍스트입니다.  \n",
    "- ✅ 표시된 문장은 반드시 퀴즈 문제에 포함되도록 해주세요.  \n",
    "- 그 외 문장들은 선택적으로 반영해도 됩니다.\n",
    "- 문제는 총 5문제로 구성해주세요.\n",
    "- 문제 유형은 객관식(4지선다), OX, 단답형으로 다양하게 섞어주세요.\n",
    "- 각 문항에 정답도 함께 작성해주세요.\n",
    "- 한국어로 출력해주세요.\n",
    "\n",
    "📄 강의 요약:\n",
    "\\\"\\\"\\\"{full_text}\\\"\\\"\\\"\n",
    "\"\"\"\n",
    "\n",
    "# ✅ Gemini 호출\n",
    "response = model.generate_content(prompt)\n",
    "\n",
    "# ✅ 결과 저장\n",
    "with open(\"quiz_from_highlighted_and_full.txt\", \"w\", encoding=\"utf-8\") as f:\n",
    "    f.write(response.text.strip())\n",
    "\n",
    "print(\"✅ 퀴즈 생성 완료 → quiz_from_highlighted_and_full.txt 저장됨\")\n"
   ]
  }
 ],
 "metadata": {
  "kernelspec": {
   "display_name": "Python 3",
   "language": "python",
   "name": "python3"
  },
  "language_info": {
   "codemirror_mode": {
    "name": "ipython",
    "version": 3
   },
   "file_extension": ".py",
   "mimetype": "text/x-python",
   "name": "python",
   "nbconvert_exporter": "python",
   "pygments_lexer": "ipython3",
   "version": "3.11.9"
  }
 },
 "nbformat": 4,
 "nbformat_minor": 5
}
